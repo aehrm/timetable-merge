{
 "cells": [
  {
   "cell_type": "code",
   "execution_count": 5,
   "metadata": {
    "collapsed": true
   },
   "outputs": [
    {
     "data": {
      "text/plain": "['<query_bayern_fahrplan.Departure object at 0x7fb720de9eb0>',\n '<query_bayern_fahrplan.Departure object at 0x7fb720de9df0>',\n '<query_bayern_fahrplan.Departure object at 0x7fb720de9e80>',\n '<query_bayern_fahrplan.Departure object at 0x7fb720de9e50>',\n '<query_bayern_fahrplan.Departure object at 0x7fb720de9fa0>',\n '<query_bayern_fahrplan.Departure object at 0x7fb720de9f40>',\n '<query_bayern_fahrplan.Departure object at 0x7fb720df0130>',\n '<query_bayern_fahrplan.Departure object at 0x7fb720df00d0>',\n '<query_bayern_fahrplan.Departure object at 0x7fb720df0100>',\n '<query_bayern_fahrplan.Departure object at 0x7fb720df0070>',\n '<query_bayern_fahrplan.Departure object at 0x7fb720df0160>',\n '<query_bayern_fahrplan.Departure object at 0x7fb720df01c0>',\n '<query_bayern_fahrplan.Departure object at 0x7fb720df0220>',\n '<query_bayern_fahrplan.Departure object at 0x7fb720df0280>',\n '<query_bayern_fahrplan.Departure object at 0x7fb720df02e0>',\n '<query_bayern_fahrplan.Departure object at 0x7fb720df0340>',\n '<query_bayern_fahrplan.Departure object at 0x7fb720df03a0>',\n '<query_bayern_fahrplan.Departure object at 0x7fb720df0400>',\n '<query_bayern_fahrplan.Departure object at 0x7fb720df0460>',\n '<query_bayern_fahrplan.Departure object at 0x7fb720df04c0>']"
     },
     "execution_count": 5,
     "metadata": {},
     "output_type": "execute_result"
    }
   ],
   "source": [
    "\n",
    "import query_bayern_fahrplan as q\n",
    "\n",
    "[str(x) for x in q.departures()]\n"
   ]
  }
 ],
 "metadata": {
  "kernelspec": {
   "display_name": "Python 3",
   "language": "python",
   "name": "python3"
  },
  "language_info": {
   "codemirror_mode": {
    "name": "ipython",
    "version": 2
   },
   "file_extension": ".py",
   "mimetype": "text/x-python",
   "name": "python",
   "nbconvert_exporter": "python",
   "pygments_lexer": "ipython2",
   "version": "2.7.6"
  }
 },
 "nbformat": 4,
 "nbformat_minor": 0
}