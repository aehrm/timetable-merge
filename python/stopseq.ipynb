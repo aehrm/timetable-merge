{
 "cells": [
  {
   "cell_type": "code",
   "execution_count": 1,
   "metadata": {
    "collapsed": true
   },
   "outputs": [
    {
     "data": {
      "text/plain": "['02:41  - NJ 40421 - Wien Hauptbahnhof - 5',\n '02:41  - NJ 421 - Innsbruck Hauptbahnhof - 5',\n '03:54 +5 - ICE 1689 InterCityExpress - München Hbf - ',\n '03:54  - NJ 490 - Hamburg Harburg - 6',\n '03:54  - NJ 40420 - Hamburg Harburg - 6',\n '04:30 +0 - RB 80 - Treuchtlingen - 3',\n '04:54 +0 - RB 53 - Bamberg - 9',\n '05:13  - 4 - Würzburg Bürgerbräu - ',\n '05:15 +0 - RE 55 - Frankfurt (Main) Hauptbahnhof - 11',\n '05:15  - 5 - Würzburg Pestalozzistraße - ',\n '05:20  - 20 - Würzburg Flürleinstraße - Bstg. 3',\n '05:21  - 12 - Würzburg Brunnenstraße - Bstg. 4',\n '05:30  - 14 - Gerbrunn Casteller Platz - Bstg. 1.',\n '05:30  - 27 - Würzburg va-Q-tec - Bstg. A',\n '05:32 +0 - RB 80 - Treuchtlingen - 2',\n '05:36 +0 - RE 10 - Nürnberg Hbf - 10',\n '05:39  - 5 - Würzburg Rottenbauer - ',\n '05:39  - 18 - Höchberg - Bstg. 6',\n '05:41  - 4 - Würzburg Königsberger Straße - ']"
     },
     "execution_count": 1,
     "metadata": {},
     "output_type": "execute_result"
    }
   ],
   "source": [
    "\n",
    "import query_bayern_fahrplan as q\n",
    "departures = q.departures(q.stations[\"Würzburg\"])\n",
    "[str(x) for x in departures]"
   ]
  },
  {
   "cell_type": "code",
   "execution_count": 2,
   "outputs": [
    {
     "data": {
      "text/plain": "['Köln West Bf\\n\\n22:47',\n 'Bonn Hbf\\n23:09\\n23:11\\n3',\n 'Koblenz Hauptbahnhof\\n23:44\\n23:46\\n4',\n 'Frankfurt (Main) Südbahnhof\\n01:13\\n01:17',\n 'Würzburg Hbf\\n02:39\\n02:41\\n5',\n 'Nürnberg Hbf\\n03:36',\n 'Nürnberg Hbf\\n\\n04:08',\n 'Regensburg Hbf\\n07:35\\n07:37\\n9',\n 'Passau Hbf\\n08:45\\n08:47\\n5',\n 'Wels Hauptbahnhof\\n09:46\\n09:49\\n4',\n 'Linz/Donau Hauptbahnhof\\n10:18\\n10:25\\n9A-E',\n 'Amstetten Bahnhof\\n10:52\\n10:54',\n 'St. Pölten Hauptbahnhof\\n11:19\\n11:21\\n3',\n 'Wien Meidling\\n11:48\\n11:51\\n6',\n 'Wien Hauptbahnhof\\n11:56\\n\\n10']"
     },
     "execution_count": 2,
     "metadata": {},
     "output_type": "execute_result"
    }
   ],
   "source": [
    "stops0 = departures[0].stop_sequence()\n",
    "[str(stop) for stop in stops0]"
   ],
   "metadata": {
    "collapsed": false,
    "pycharm": {
     "name": "#%%\n"
    }
   }
  }
 ],
 "metadata": {
  "kernelspec": {
   "display_name": "Python 3",
   "language": "python",
   "name": "python3"
  },
  "language_info": {
   "codemirror_mode": {
    "name": "ipython",
    "version": 2
   },
   "file_extension": ".py",
   "mimetype": "text/x-python",
   "name": "python",
   "nbconvert_exporter": "python",
   "pygments_lexer": "ipython2",
   "version": "2.7.6"
  }
 },
 "nbformat": 4,
 "nbformat_minor": 0
}