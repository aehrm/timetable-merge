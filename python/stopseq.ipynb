{
 "cells": [
  {
   "cell_type": "code",
   "execution_count": 1,
   "metadata": {
    "collapsed": true,
    "pycharm": {
     "name": "#%%\n"
    }
   },
   "outputs": [
    {
     "data": {
      "text/plain": "['00:36  - 511 - Waldbrunn Am Guckenberg - ',\n '00:36  - 5 - Würzburg Pestalozzistraße - ',\n '00:49  - 5 - Rottenbauer - ',\n '00:50  - 421 - Tiefenthal Ort - ',\n '00:50  - 4 - Sanderau - ',\n '00:51  - 99 - Würzburg Juliuspromenade - ',\n '00:51  - 17 - Höchberg - ',\n '00:54  - 14 - Würzburg, Busbahnhof - ',\n '01:04  - 94 - Würzburg Juliuspromenade - ',\n '01:22  - 5 - Rottenbauer - ',\n '01:23  - 94 - Würzburg Ostbahnhof - ',\n '01:30  - 554 - Frickenhausen Unteres Tor - ',\n '01:30  - 421 - Tiefenthal Ort - ',\n '01:36  - 511 - Waldbrunn Mädelhofer Straße - ',\n '01:50  - 91 - Würzburg Juliuspromenade - ',\n '01:54  - 14 - Würzburg, Busbahnhof - ',\n '02:06  - 98 - Würzburg Juliuspromenade - ',\n '02:20  - 94 - Würzburg Rottenbauer - ',\n '02:50  - 91 - Würzburg Juliuspromenade - ',\n '03:04  - 98 - Würzburg Juliuspromenade - ']"
     },
     "execution_count": 1,
     "metadata": {},
     "output_type": "execute_result"
    }
   ],
   "source": [
    "import query_bayern_fahrplan as q\n",
    "import pandas as pd\n",
    "\n",
    "departures = q.departures(q.stations[\"Sanderring\"], \"26.03.2022\", \"00:30\")\n",
    "[str(x) for x in departures]"
   ]
  },
  {
   "cell_type": "code",
   "execution_count": 2,
   "outputs": [
    {
     "data": {
      "text/plain": "['Würzburg, Hauptbahnhof (Bismarckstraße)\\n\\n00:30\\nBstg. Bi.',\n 'Würzburg Handwerkskammer\\n00:32\\n00:32',\n 'Würzburg Residenzplatz\\n00:33\\n00:33',\n 'Würzburg Neue Universität\\n00:35\\n00:35',\n 'Würzburg Sanderring\\n00:36\\n00:36',\n 'Würzburg Leistenstraße\\n00:38\\n00:38',\n 'Höchberg Karwinkel\\n00:43\\n00:43',\n 'Höchberg Sparkasse\\n00:44\\n00:44',\n 'Höchberg Gasthaus Lamm\\n00:46\\n00:46',\n 'Höchberg Bergstraße\\n00:47\\n00:47',\n 'Höchberg Heidelberger Straße\\n00:48\\n00:48',\n 'Eisingen Erbachshof\\n00:51\\n00:51',\n 'Eisingen St.-Josefs-Stift\\n00:52\\n00:52',\n 'Eisingen Oberer Stadtweg\\n00:52\\n00:52',\n 'Eisingen Stöckachstraße\\n00:53\\n00:53',\n 'Eisingen Herrlesgraben\\n00:54\\n00:54',\n 'Waldbrunn, St.-Norbertus-Straße\\n00:56\\n00:56',\n 'Waldbrunn Eisinger Straße\\n00:56\\n00:56',\n 'Waldbrunn Grabenstraße\\n00:57\\n00:57',\n 'Waldbrunn Am Guckenberg\\n00:59']"
     },
     "execution_count": 2,
     "metadata": {},
     "output_type": "execute_result"
    }
   ],
   "source": [
    "stops0 = departures[0].stop_sequence()\n",
    "[str(stop) for stop in stops0]"
   ],
   "metadata": {
    "collapsed": false,
    "pycharm": {
     "name": "#%%\n"
    }
   }
  },
  {
   "cell_type": "code",
   "execution_count": 3,
   "outputs": [
    {
     "data": {
      "text/plain": "[('Würzburg, Hauptbahnhof (Bismarckstraße)', '00:30'),\n ('Würzburg Handwerkskammer', '00:32'),\n ('Würzburg Residenzplatz', '00:33'),\n ('Würzburg Neue Universität', '00:35'),\n ('Würzburg Sanderring', '00:36'),\n ('Würzburg Leistenstraße', '00:38'),\n ('Höchberg Karwinkel', '00:43'),\n ('Höchberg Sparkasse', '00:44'),\n ('Höchberg Gasthaus Lamm', '00:46'),\n ('Höchberg Bergstraße', '00:47'),\n ('Höchberg Heidelberger Straße', '00:48'),\n ('Eisingen Erbachshof', '00:51'),\n ('Eisingen St.-Josefs-Stift', '00:52'),\n ('Eisingen Oberer Stadtweg', '00:52'),\n ('Eisingen Stöckachstraße', '00:53'),\n ('Eisingen Herrlesgraben', '00:54'),\n ('Waldbrunn, St.-Norbertus-Straße', '00:56'),\n ('Waldbrunn Eisinger Straße', '00:56'),\n ('Waldbrunn Grabenstraße', '00:57'),\n ('Waldbrunn Am Guckenberg', '00:59')]"
     },
     "execution_count": 3,
     "metadata": {},
     "output_type": "execute_result"
    }
   ],
   "source": [
    "stops0.station_departure_or_arrival_list()"
   ],
   "metadata": {
    "collapsed": false,
    "pycharm": {
     "name": "#%%\n"
    }
   }
  },
  {
   "cell_type": "code",
   "execution_count": 4,
   "outputs": [
    {
     "data": {
      "text/plain": "'departure:  arrival: 00:59'"
     },
     "execution_count": 4,
     "metadata": {},
     "output_type": "execute_result"
    }
   ],
   "source": [
    "last_stop = stops0[-1]\n",
    "\"departure: \" + last_stop.departure + \" arrival: \" + last_stop.arrival"
   ],
   "metadata": {
    "collapsed": false,
    "pycharm": {
     "name": "#%%\n"
    }
   }
  },
  {
   "cell_type": "code",
   "execution_count": 5,
   "outputs": [
    {
     "data": {
      "text/plain": "'00:59'"
     },
     "execution_count": 5,
     "metadata": {},
     "output_type": "execute_result"
    }
   ],
   "source": [
    "last_stop.departure or last_stop.arrival"
   ],
   "metadata": {
    "collapsed": false,
    "pycharm": {
     "name": "#%%\n"
    }
   }
  },
  {
   "cell_type": "markdown",
   "source": [
    "Sanderring: Mittwoch, 23.03.2022, 0:20"
   ],
   "metadata": {
    "collapsed": false,
    "pycharm": {
     "name": "#%% md\n"
    }
   }
  },
  {
   "cell_type": "code",
   "execution_count": 6,
   "outputs": [
    {
     "data": {
      "text/plain": "['00:20  - 4 - Sanderau - ',\n '00:21  - 99 - Würzburg Juliuspromenade - ',\n '00:24  - 17 - Busbahnhof - ',\n '00:36  - 5 - Würzburg Pestalozzistraße - ',\n '00:49  - 5 - Rottenbauer - ',\n '00:50  - 4 - Sanderau - ',\n '00:51  - 17 - Höchberg - ',\n '00:54  - 14 - Würzburg, Busbahnhof - ',\n '01:22  - 5 - Rottenbauer - ',\n '02:08  - 95 - Würzburg Königsberger Straße - ',\n '02:19  - 95 - Würzburg Juliuspromenade - ',\n '03:01  - 98 - Würzburg Rottenbauer - ',\n '03:40  - 98 - Würzburg Juliuspromenade - ',\n '04:20  - 94 - Würzburg Rottenbauer - ',\n '04:29  - 4 - Zellerau über HBF - ',\n '04:32  - 17 - Höchberg - ',\n '04:32  - 5 - Grombühl Uni-Kliniken - ',\n '04:44  - 4 - Zellerau über HBF - ',\n '04:59  - 4 - Zellerau über HBF - ',\n '05:02  - 5 - Grombühl Uni-Kliniken - ']"
     },
     "execution_count": 6,
     "metadata": {},
     "output_type": "execute_result"
    }
   ],
   "source": [
    "wednesday_dep = q.departures(q.stations[\"Sanderring\"], \"23.03.2022\", \"00:20\")\n",
    "[str(x) for x in wednesday_dep]"
   ],
   "metadata": {
    "collapsed": false,
    "pycharm": {
     "name": "#%%\n"
    }
   }
  },
  {
   "cell_type": "code",
   "execution_count": 7,
   "outputs": [
    {
     "data": {
      "text/plain": "Empty DataFrame\nColumns: []\nIndex: []",
      "text/html": "<div>\n<style scoped>\n    .dataframe tbody tr th:only-of-type {\n        vertical-align: middle;\n    }\n\n    .dataframe tbody tr th {\n        vertical-align: top;\n    }\n\n    .dataframe thead th {\n        text-align: right;\n    }\n</style>\n<table border=\"1\" class=\"dataframe\">\n  <thead>\n    <tr style=\"text-align: right;\">\n      <th></th>\n    </tr>\n  </thead>\n  <tbody>\n  </tbody>\n</table>\n</div>"
     },
     "execution_count": 7,
     "metadata": {},
     "output_type": "execute_result"
    }
   ],
   "source": [],
   "metadata": {
    "collapsed": false,
    "pycharm": {
     "name": "#%%\n"
    }
   }
  },
  {
   "cell_type": "markdown",
   "source": [
    "Sanderring: Samstag, 26.03.2022, 0:05"
   ],
   "metadata": {
    "collapsed": false,
    "pycharm": {
     "name": "#%% md\n"
    }
   }
  },
  {
   "cell_type": "code",
   "execution_count": 8,
   "outputs": [
    {
     "data": {
      "text/plain": "['00:06  - 5 - Würzburg Pestalozzistraße - ',\n '00:19  - 5 - Rottenbauer - ',\n '00:20  - 4 - Sanderau - ',\n '00:21  - 99 - Würzburg Juliuspromenade - ',\n '00:24  - 17 - Busbahnhof - ',\n '00:36  - 511 - Waldbrunn Am Guckenberg - ',\n '00:36  - 5 - Würzburg Pestalozzistraße - ',\n '00:49  - 5 - Rottenbauer - ',\n '00:50  - 421 - Tiefenthal Ort - ',\n '00:50  - 4 - Sanderau - ',\n '00:51  - 99 - Würzburg Juliuspromenade - ',\n '00:51  - 17 - Höchberg - ',\n '00:54  - 14 - Würzburg, Busbahnhof - ',\n '01:04  - 94 - Würzburg Juliuspromenade - ',\n '01:22  - 5 - Rottenbauer - ',\n '01:23  - 94 - Würzburg Ostbahnhof - ',\n '01:30  - 554 - Frickenhausen Unteres Tor - ',\n '01:30  - 421 - Tiefenthal Ort - ',\n '01:36  - 511 - Waldbrunn Mädelhofer Straße - ',\n '01:50  - 91 - Würzburg Juliuspromenade - ']"
     },
     "execution_count": 8,
     "metadata": {},
     "output_type": "execute_result"
    }
   ],
   "source": [
    "saturday_dep = q.departures(q.stations[\"Sanderring\"], \"26.03.2022\", \"00:05\")\n",
    "[str(x) for x in saturday_dep]"
   ],
   "metadata": {
    "collapsed": false,
    "pycharm": {
     "name": "#%%\n"
    }
   }
  },
  {
   "cell_type": "code",
   "execution_count": 8,
   "outputs": [],
   "source": [],
   "metadata": {
    "collapsed": false,
    "pycharm": {
     "name": "#%%\n"
    }
   }
  }
 ],
 "metadata": {
  "kernelspec": {
   "display_name": "Python 3",
   "language": "python",
   "name": "python3"
  },
  "language_info": {
   "codemirror_mode": {
    "name": "ipython",
    "version": 2
   },
   "file_extension": ".py",
   "mimetype": "text/x-python",
   "name": "python",
   "nbconvert_exporter": "python",
   "pygments_lexer": "ipython2",
   "version": "2.7.6"
  }
 },
 "nbformat": 4,
 "nbformat_minor": 0
}