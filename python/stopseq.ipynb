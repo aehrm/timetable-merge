{
 "cells": [
  {
   "cell_type": "code",
   "execution_count": 1,
   "metadata": {
    "collapsed": true
   },
   "outputs": [
    {
     "data": {
      "text/plain": "['21:16 +25 - ICE 22 InterCityExpress - Dortmund Hbf - 6',\n '21:21 +0 - 214 - Uni-Sportzentrum - Bstg. 2',\n '21:25 +0 - 5 - Rottenbauer - ',\n '21:25 +0 - 27 - Dürrbachau - Bstg. A',\n '21:27 +0 - 4 - Sanderau - ',\n '21:28 +4 - ICE 580 InterCityExpress - Kassel Bahnhof Wilhelmshöhe - 6',\n '21:28 +0 - 4 - Zellerau - ',\n '21:30 +0 - 430 - Kürnach üb. Estenfeld - Bstg. 8',\n '21:30 +3 - ICE 885 InterCityExpress - München Hbf - 4',\n '21:31 +0 - 5 - Grombühl Uni-Kliniken - ',\n '21:32 +0 - 14 - Randersacker     über Gerbrunn - Bstg. 1.',\n '21:33 +0 - 633 - Marktheidenfeld - Bstg. 11',\n '21:34 +6 - ICE 929 Kieler Bucht - Nürnberg Hbf - 5',\n '21:35 +0 - 522 - Margetshöchheim  ü. Zellerau-Zell - Bstg. 5',\n '21:35 +0 - RE 54 - Frankfurt (Main) Hauptbahnhof - 7',\n '21:37 +0 - 28 - Mönchberg - Bstg. 2',\n '21:37 +0 - RE8 - Stuttgart Hauptbahnhof (oben) - 2',\n '21:38  - 29 - Hubland Campus N - Bstg. 2',\n '21:39 +1 - RE 54 - Bamberg - 11',\n '21:40 +0 - RB 80 - Treuchtlingen - 3']"
     },
     "execution_count": 1,
     "metadata": {},
     "output_type": "execute_result"
    }
   ],
   "source": [
    "\n",
    "import query_bayern_fahrplan as q\n",
    "departures = q.departures(q.stations[\"Würzburg\"])\n",
    "[str(x) for x in departures]\n"
   ]
  }
 ],
 "metadata": {
  "kernelspec": {
   "display_name": "Python 3",
   "language": "python",
   "name": "python3"
  },
  "language_info": {
   "codemirror_mode": {
    "name": "ipython",
    "version": 2
   },
   "file_extension": ".py",
   "mimetype": "text/x-python",
   "name": "python",
   "nbconvert_exporter": "python",
   "pygments_lexer": "ipython2",
   "version": "2.7.6"
  }
 },
 "nbformat": 4,
 "nbformat_minor": 0
}