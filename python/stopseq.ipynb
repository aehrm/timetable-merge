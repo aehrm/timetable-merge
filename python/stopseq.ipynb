{
 "cells": [
  {
   "cell_type": "code",
   "execution_count": 2,
   "metadata": {
    "collapsed": true
   },
   "outputs": [
    {
     "data": {
      "text/plain": "['12:54  - 4 - Sanderau - ',\n '12:54  - 5 - Rottenbauer - ',\n '12:55  - 1 - Würzburg Pestalozzistraße - ',\n '12:56  - 3 - Hauptbahnhof - ',\n '12:57  - 1 - Grombühl Uni-Kliniken - ',\n '12:58  - E - Würzburg Sanderglacisstraße - ',\n '13:00  - 505 - Würzburg Rottenbauer - ',\n '13:01  - 1 - Sanderau - ',\n '13:02  - 1 - Würzburg Pestalozzistraße - ',\n '13:02  - 3 - Heuchelhof - ',\n '13:04  - 4 - Zellerau - ',\n '13:04  - 5 - Grombühl Uni-Kliniken - ',\n '13:05  - 17 - Höchberg - ',\n '13:06  - 10 - Würzburg Sanderglacisstraße - ',\n '13:07  - 505 - Würzburg Rottenbauer - ',\n '13:07  - 14 - Gerbrunn Casteller Platz - ',\n '13:08  - E - Würzburg Brunnenstraße - ',\n '13:09  - 5 - Rottenbauer - ',\n '13:09  - 4 - Sanderau - ',\n '13:10  - 452 - Arnstein - ']"
     },
     "execution_count": 2,
     "metadata": {},
     "output_type": "execute_result"
    }
   ],
   "source": [
    "import query_bayern_fahrplan as q\n",
    "import pandas as pd\n",
    "\n",
    "departures = q.departures(q.stations[\"Sanderring\"], \"14.03.2022\", \"12:54\")\n",
    "[str(x) for x in departures]"
   ]
  },
  {
   "cell_type": "code",
   "execution_count": 3,
   "outputs": [
    {
     "data": {
      "text/plain": "['Würzburg Bürgerbräu\\n\\n12:37',\n 'Würzburg Sieboldmuseum\\n12:37\\n12:37',\n 'Würzburg DJK-Sportzentrum\\n12:39\\n12:39',\n 'Würzburg Hartmannstraße\\n12:40\\n12:40',\n 'Würzburg Wörthstraße\\n12:41\\n12:41',\n 'Würzburg Nautiland\\n12:42\\n12:42',\n 'Würzburg Talavera\\n12:44\\n12:44',\n 'Würzburg Congress-Centrum\\n12:45\\n12:45',\n 'Würzburg Ulmer Hof\\n12:46\\n12:46',\n 'Würzburg Dom\\n12:49\\n12:49',\n 'Würzburg Rathaus\\n12:50\\n12:50',\n 'Würzburg Neubaustraße\\n12:51\\n12:51',\n 'Würzburg Sanderring\\n12:54\\n12:54',\n 'Würzburg Eichendorffstraße\\n12:55\\n12:55',\n 'Würzburg Ehehaltenhaus\\n12:56\\n12:56',\n 'Würzburg Arndtstraße\\n12:57\\n12:57',\n 'Würzburg Fechenbachstraße\\n12:58\\n12:58',\n 'Würzburg Ablösung Fechenbachst\\n13:00\\n13:00',\n 'Würzburg Königsberger Straße\\n13:02']"
     },
     "execution_count": 3,
     "metadata": {},
     "output_type": "execute_result"
    }
   ],
   "source": [
    "stops0 = departures[0].stop_sequence()\n",
    "[str(stop) for stop in stops0]"
   ],
   "metadata": {
    "collapsed": false,
    "pycharm": {
     "name": "#%%\n"
    }
   }
  },
  {
   "cell_type": "code",
   "execution_count": 13,
   "outputs": [
    {
     "data": {
      "text/plain": "[('Würzburg Bürgerbräu', '12:37'),\n ('Würzburg Sieboldmuseum', '12:37'),\n ('Würzburg DJK-Sportzentrum', '12:39'),\n ('Würzburg Hartmannstraße', '12:40'),\n ('Würzburg Wörthstraße', '12:41'),\n ('Würzburg Nautiland', '12:42'),\n ('Würzburg Talavera', '12:44'),\n ('Würzburg Congress-Centrum', '12:45'),\n ('Würzburg Ulmer Hof', '12:46'),\n ('Würzburg Dom', '12:49'),\n ('Würzburg Rathaus', '12:50'),\n ('Würzburg Neubaustraße', '12:51'),\n ('Würzburg Sanderring', '12:54'),\n ('Würzburg Eichendorffstraße', '12:55'),\n ('Würzburg Ehehaltenhaus', '12:56'),\n ('Würzburg Arndtstraße', '12:57'),\n ('Würzburg Fechenbachstraße', '12:58'),\n ('Würzburg Ablösung Fechenbachst', '13:00'),\n ('Würzburg Königsberger Straße', '13:02')]"
     },
     "execution_count": 13,
     "metadata": {},
     "output_type": "execute_result"
    }
   ],
   "source": [
    "stops0.station_departure_or_arrival_list()"
   ],
   "metadata": {
    "collapsed": false,
    "pycharm": {
     "name": "#%%\n"
    }
   }
  },
  {
   "cell_type": "code",
   "execution_count": 5,
   "outputs": [
    {
     "data": {
      "text/plain": "'departure:  arrival: 13:02'"
     },
     "execution_count": 5,
     "metadata": {},
     "output_type": "execute_result"
    }
   ],
   "source": [
    "last_stop = stops0[-1]\n",
    "\"departure: \" + last_stop.departure + \" arrival: \" + last_stop.arrival"
   ],
   "metadata": {
    "collapsed": false,
    "pycharm": {
     "name": "#%%\n"
    }
   }
  },
  {
   "cell_type": "code",
   "execution_count": 6,
   "outputs": [
    {
     "data": {
      "text/plain": "'13:02'"
     },
     "execution_count": 6,
     "metadata": {},
     "output_type": "execute_result"
    }
   ],
   "source": [
    "last_stop.departure or last_stop.arrival"
   ],
   "metadata": {
    "collapsed": false,
    "pycharm": {
     "name": "#%%\n"
    }
   }
  },
  {
   "cell_type": "markdown",
   "source": [
    "Sanderring: Mittwoch, 09.03.2022, 0:20"
   ],
   "metadata": {
    "collapsed": false
   }
  },
  {
   "cell_type": "code",
   "execution_count": 7,
   "outputs": [
    {
     "data": {
      "text/plain": "['00:20  - 4 - Sanderau - ',\n '00:21  - 99 - Würzburg Juliuspromenade - ',\n '00:24  - 17 - Busbahnhof - ',\n '00:36  - 5 - Würzburg Pestalozzistraße - ',\n '00:49  - 5 - Rottenbauer - ',\n '00:50  - 4 - Sanderau - ',\n '00:51  - 17 - Höchberg - ',\n '00:54  - 14 - Würzburg, Busbahnhof - ',\n '01:22  - 5 - Rottenbauer - ',\n '02:08  - 95 - Würzburg Königsberger Straße - ',\n '02:19  - 95 - Würzburg Juliuspromenade - ',\n '04:29  - 4 - Zellerau über HBF - ',\n '04:32  - 17 - Höchberg - ',\n '04:32  - 5 - Grombühl Uni-Kliniken - ',\n '04:44  - 4 - Zellerau über HBF - ',\n '04:59  - 4 - Zellerau über HBF - ',\n '05:02  - 5 - Grombühl Uni-Kliniken - ',\n '05:04  - 17 - Busbahnhof - ',\n '05:14  - 4 - Zellerau über HBF - ',\n '05:14  - 5 - Rottenbauer - ']"
     },
     "execution_count": 7,
     "metadata": {},
     "output_type": "execute_result"
    }
   ],
   "source": [
    "wednesday_dep = q.departures(q.stations[\"Sanderring\"], \"09.03.2022\", \"00:20\")\n",
    "[str(x) for x in wednesday_dep]"
   ],
   "metadata": {
    "collapsed": false,
    "pycharm": {
     "name": "#%%\n"
    }
   }
  },
  {
   "cell_type": "code",
   "execution_count": 8,
   "outputs": [
    {
     "data": {
      "text/plain": "Empty DataFrame\nColumns: []\nIndex: []",
      "text/html": "<div>\n<style scoped>\n    .dataframe tbody tr th:only-of-type {\n        vertical-align: middle;\n    }\n\n    .dataframe tbody tr th {\n        vertical-align: top;\n    }\n\n    .dataframe thead th {\n        text-align: right;\n    }\n</style>\n<table border=\"1\" class=\"dataframe\">\n  <thead>\n    <tr style=\"text-align: right;\">\n      <th></th>\n    </tr>\n  </thead>\n  <tbody>\n  </tbody>\n</table>\n</div>"
     },
     "execution_count": 8,
     "metadata": {},
     "output_type": "execute_result"
    }
   ],
   "source": [
    "df = pd.DataFrame()\n",
    "df"
   ],
   "metadata": {
    "collapsed": false,
    "pycharm": {
     "name": "#%%\n"
    }
   }
  },
  {
   "cell_type": "markdown",
   "source": [
    "Sanderring: Samstag, 18.03.2022, 0:05"
   ],
   "metadata": {
    "collapsed": false
   }
  },
  {
   "cell_type": "code",
   "execution_count": 9,
   "outputs": [
    {
     "data": {
      "text/plain": "['00:06  - 5 - Würzburg Pestalozzistraße - ',\n '00:19  - 5 - Rottenbauer - ',\n '00:20  - 4 - Sanderau - ',\n '00:21  - 99 - Würzburg Juliuspromenade - ',\n '00:24  - 17 - Busbahnhof - ',\n '00:36  - 5 - Würzburg Pestalozzistraße - ',\n '00:49  - 5 - Rottenbauer - ',\n '00:50  - 4 - Sanderau - ',\n '00:51  - 17 - Höchberg - ',\n '00:54  - 14 - Würzburg, Busbahnhof - ',\n '01:22  - 5 - Rottenbauer - ',\n '02:08  - 95 - Würzburg Königsberger Straße - ',\n '02:19  - 95 - Würzburg Juliuspromenade - ',\n '04:29  - 4 - Zellerau über HBF - ',\n '04:32  - 17 - Höchberg - ',\n '04:32  - 5 - Grombühl Uni-Kliniken - ',\n '04:44  - 4 - Zellerau über HBF - ',\n '04:59  - 4 - Zellerau über HBF - ',\n '05:02  - 5 - Grombühl Uni-Kliniken - ',\n '05:04  - 17 - Busbahnhof - ']"
     },
     "execution_count": 9,
     "metadata": {},
     "output_type": "execute_result"
    }
   ],
   "source": [
    "saturday_dep = q.departures(q.stations[\"Sanderring\"], \"18.03.2022\", \"00:05\")\n",
    "[str(x) for x in saturday_dep]"
   ],
   "metadata": {
    "collapsed": false,
    "pycharm": {
     "name": "#%%\n"
    }
   }
  },
  {
   "cell_type": "code",
   "execution_count": 9,
   "outputs": [],
   "source": [],
   "metadata": {
    "collapsed": false,
    "pycharm": {
     "name": "#%%\n"
    }
   }
  }
 ],
 "metadata": {
  "kernelspec": {
   "display_name": "Python 3",
   "language": "python",
   "name": "python3"
  },
  "language_info": {
   "codemirror_mode": {
    "name": "ipython",
    "version": 2
   },
   "file_extension": ".py",
   "mimetype": "text/x-python",
   "name": "python",
   "nbconvert_exporter": "python",
   "pygments_lexer": "ipython2",
   "version": "2.7.6"
  }
 },
 "nbformat": 4,
 "nbformat_minor": 0
}