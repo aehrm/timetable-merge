{
 "cells": [
  {
   "cell_type": "code",
   "execution_count": 4,
   "metadata": {
    "collapsed": true,
    "pycharm": {
     "name": "#%%\n"
    }
   },
   "outputs": [],
   "source": [
    "import query_bayern_fahrplan as q\n",
    "import timetable_merge as tm"
   ]
  },
  {
   "cell_type": "markdown",
   "source": [
    "Departures now from Sanderring"
   ],
   "metadata": {
    "collapsed": false,
    "pycharm": {
     "name": "#%% md\n"
    }
   }
  },
  {
   "cell_type": "code",
   "execution_count": 5,
   "outputs": [
    {
     "name": "stdout",
     "output_type": "stream",
     "text": [
      "12:18 +0 - 7 - Zellerau - \n",
      "12:19 +1 - 4 - Zellerau - \n",
      "12:19 +1 - 5 - Grombühl Uni-Kliniken - \n",
      "12:20 +2 - 554 - Sommerhausen     oh. Randersacker - \n",
      "12:21 +0 - 10 - Sanderring - \n",
      "12:24 +0 - 5 - Rottenbauer - \n",
      "12:24 +0 - 4 - Sanderau - \n",
      "12:26 +0 - 3 - Hauptbahnhof - \n",
      "12:27 +0 - 1 - Grombühl Uni-Kliniken - \n",
      "12:28 +0 - 552 - Wü/Busbahnhof    üb. Randersacker - \n",
      "12:29 +3 - 10 - Sanderring - \n",
      "12:30 +0 - 552 - Theilheim        Lindelbach - \n",
      "12:31 +0 - 1 - Sanderau - \n",
      "12:32 +1 - 3 - Heuchelhof - \n",
      "12:34 +0 - 4 - Zellerau - \n",
      "12:34 +2 - 5 - Grombühl Uni-Kliniken - \n",
      "12:35 +0 - 17 - Höchberg - \n",
      "12:36 +0 - 10 - Sanderring - \n",
      "12:39 +0 - 4 - Sanderau - \n",
      "12:39 +0 - 5 - Rottenbauer - \n"
     ]
    }
   ],
   "source": [
    "departures = q.departures(q.stations[\"Sanderring\"])\n",
    "print(*departures, sep=\"\\n\")"
   ],
   "metadata": {
    "collapsed": false,
    "pycharm": {
     "name": "#%%\n"
    }
   }
  },
  {
   "cell_type": "markdown",
   "source": [
    "Table wit all departures"
   ],
   "metadata": {
    "collapsed": false,
    "pycharm": {
     "name": "#%% md\n"
    }
   }
  },
  {
   "cell_type": "code",
   "execution_count": 6,
   "outputs": [
    {
     "name": "stdout",
     "output_type": "stream",
     "text": [
      "request stop sequence https://www.bayern-fahrplan.de/xhr_stopseq_leg {'line': 'wvv:10007:e:H:22b', 'stop': '3700348', 'tripCode': '30', 'date': '20220422', 'time': '12:18'}\n",
      "status code: 200\n",
      "request stop sequence https://www.bayern-fahrplan.de/xhr_stopseq_leg {'line': 'wvv:01004:e:H:22b', 'stop': '3700348', 'tripCode': '439', 'date': '20220422', 'time': '12:19'}\n",
      "status code: 200\n",
      "request stop sequence https://www.bayern-fahrplan.de/xhr_stopseq_leg {'line': 'wvv:01005:e:H:22b', 'stop': '3700348', 'tripCode': '194', 'date': '20220422', 'time': '12:19'}\n",
      "status code: 200\n",
      "request stop sequence https://www.bayern-fahrplan.de/xhr_stopseq_leg {'line': 'wvv:10554:E:H:22b', 'stop': '3700348', 'tripCode': '11', 'date': '20220422', 'time': '12:20'}\n",
      "status code: 200\n",
      "request stop sequence https://www.bayern-fahrplan.de/xhr_stopseq_leg {'line': 'wvv:10010:E:R:22b', 'stop': '3700348', 'tripCode': '40', 'date': '20220422', 'time': '12:21'}\n",
      "status code: 200\n",
      "request stop sequence https://www.bayern-fahrplan.de/xhr_stopseq_leg {'line': 'wvv:01005:e:R:22b', 'stop': '3700348', 'tripCode': '513', 'date': '20220422', 'time': '12:24'}\n",
      "status code: 200\n",
      "request stop sequence https://www.bayern-fahrplan.de/xhr_stopseq_leg {'line': 'wvv:01004:e:R:22b', 'stop': '3700348', 'tripCode': '178', 'date': '20220422', 'time': '12:24'}\n",
      "status code: 200\n",
      "request stop sequence https://www.bayern-fahrplan.de/xhr_stopseq_leg {'line': 'wvv:01003:E:H:22b', 'stop': '3700348', 'tripCode': '30', 'date': '20220422', 'time': '12:26'}\n",
      "status code: 200\n",
      "request stop sequence https://www.bayern-fahrplan.de/xhr_stopseq_leg {'line': 'wvv:01001:e:H:22b', 'stop': '3700348', 'tripCode': '40', 'date': '20220422', 'time': '12:27'}\n",
      "status code: 200\n",
      "request stop sequence https://www.bayern-fahrplan.de/xhr_stopseq_leg {'line': 'wvv:10552:E:R:22b', 'stop': '3700348', 'tripCode': '37', 'date': '20220422', 'time': '12:28'}\n",
      "status code: 200\n",
      "request stop sequence https://www.bayern-fahrplan.de/xhr_stopseq_leg {'line': 'wvv:10010:E:R:22b', 'stop': '3700348', 'tripCode': '41', 'date': '20220422', 'time': '12:29'}\n",
      "status code: 200\n",
      "request stop sequence https://www.bayern-fahrplan.de/xhr_stopseq_leg {'line': 'wvv:10552:E:H:22b', 'stop': '3700348', 'tripCode': '6', 'date': '20220422', 'time': '12:30'}\n",
      "status code: 200\n",
      "request stop sequence https://www.bayern-fahrplan.de/xhr_stopseq_leg {'line': 'wvv:01001:e:R:22b', 'stop': '3700348', 'tripCode': '134', 'date': '20220422', 'time': '12:31'}\n",
      "status code: 200\n",
      "request stop sequence https://www.bayern-fahrplan.de/xhr_stopseq_leg {'line': 'wvv:01003:E:R:22b', 'stop': '3700348', 'tripCode': '86', 'date': '20220422', 'time': '12:32'}\n",
      "status code: 200\n",
      "request stop sequence https://www.bayern-fahrplan.de/xhr_stopseq_leg {'line': 'wvv:01004:e:H:22b', 'stop': '3700348', 'tripCode': '440', 'date': '20220422', 'time': '12:34'}\n",
      "status code: 200\n",
      "request stop sequence https://www.bayern-fahrplan.de/xhr_stopseq_leg {'line': 'wvv:01005:e:H:22b', 'stop': '3700348', 'tripCode': '195', 'date': '20220422', 'time': '12:34'}\n",
      "status code: 200\n",
      "request stop sequence https://www.bayern-fahrplan.de/xhr_stopseq_leg {'line': 'wvv:10017:e:H:22b', 'stop': '3700348', 'tripCode': '100', 'date': '20220422', 'time': '12:35'}\n",
      "status code: 200\n",
      "request stop sequence https://www.bayern-fahrplan.de/xhr_stopseq_leg {'line': 'wvv:10010:E:R:22b', 'stop': '3700348', 'tripCode': '42', 'date': '20220422', 'time': '12:36'}\n",
      "status code: 200\n",
      "request stop sequence https://www.bayern-fahrplan.de/xhr_stopseq_leg {'line': 'wvv:01004:e:R:22b', 'stop': '3700348', 'tripCode': '179', 'date': '20220422', 'time': '12:39'}\n",
      "status code: 200\n",
      "request stop sequence https://www.bayern-fahrplan.de/xhr_stopseq_leg {'line': 'wvv:01005:e:R:22b', 'stop': '3700348', 'tripCode': '514', 'date': '20220422', 'time': '12:39'}\n",
      "status code: 200\n"
     ]
    },
    {
     "data": {
      "text/plain": "                             7 #30 4 #439 5 #194 554 #11 10 #40 5 #513 4 #178  \\\nWürzburg Sanderring          12:18  12:19  12:19   12:20  12:21  12:24  12:24   \nWürzburg Leistenstraße       12:20    NaN    NaN     NaN    NaN    NaN    NaN   \nWürzburg Neubaustraße          NaN  12:20  12:21     NaN    NaN    NaN    NaN   \nWürzburg Sanderglacisstraße    NaN    NaN    NaN     NaN  12:23    NaN    NaN   \nWürzburg Löwenbrücke           NaN    NaN    NaN     NaN    NaN  12:26    NaN   \n...                            ...    ...    ...     ...    ...    ...    ...   \nWürzburg Athener Ring #1       NaN    NaN    NaN     NaN    NaN    NaN    NaN   \nLindelbach Unterer Bux         NaN    NaN    NaN     NaN    NaN    NaN    NaN   \nWürzburg Brombergweg           NaN    NaN    NaN     NaN    NaN  12:47    NaN   \nWürzburg Athener Ring #2       NaN    NaN    NaN     NaN    NaN    NaN    NaN   \nWürzburg Rottenbauer           NaN    NaN    NaN     NaN    NaN  12:49    NaN   \n\n                             3 #30  1 #40 552 #37 10 #41 552 #6 1 #134  3 #86  \\\nWürzburg Sanderring          12:26  12:27   12:28  12:29  12:30  12:31  12:32   \nWürzburg Leistenstraße         NaN    NaN     NaN    NaN    NaN    NaN    NaN   \nWürzburg Neubaustraße        12:27  12:28     NaN    NaN    NaN    NaN    NaN   \nWürzburg Sanderglacisstraße    NaN    NaN     NaN  12:31    NaN    NaN    NaN   \nWürzburg Löwenbrücke           NaN    NaN     NaN    NaN    NaN    NaN  12:33   \n...                            ...    ...     ...    ...    ...    ...    ...   \nWürzburg Athener Ring #1       NaN    NaN     NaN    NaN    NaN    NaN  12:50   \nLindelbach Unterer Bux         NaN    NaN     NaN    NaN  12:56    NaN    NaN   \nWürzburg Brombergweg           NaN    NaN     NaN    NaN    NaN    NaN    NaN   \nWürzburg Athener Ring #2       NaN    NaN     NaN    NaN    NaN    NaN  12:53   \nWürzburg Rottenbauer           NaN    NaN     NaN    NaN    NaN    NaN    NaN   \n\n                            4 #440 5 #195 17 #100 10 #42 4 #179 5 #514  \nWürzburg Sanderring          12:34  12:34   12:35  12:36  12:39  12:39  \nWürzburg Leistenstraße         NaN    NaN   12:37    NaN    NaN    NaN  \nWürzburg Neubaustraße        12:35  12:36     NaN    NaN    NaN    NaN  \nWürzburg Sanderglacisstraße    NaN    NaN     NaN  12:38    NaN    NaN  \nWürzburg Löwenbrücke           NaN    NaN     NaN    NaN    NaN  12:41  \n...                            ...    ...     ...    ...    ...    ...  \nWürzburg Athener Ring #1       NaN    NaN     NaN    NaN    NaN    NaN  \nLindelbach Unterer Bux         NaN    NaN     NaN    NaN    NaN    NaN  \nWürzburg Brombergweg           NaN    NaN     NaN    NaN    NaN  13:02  \nWürzburg Athener Ring #2       NaN    NaN     NaN    NaN    NaN    NaN  \nWürzburg Rottenbauer           NaN    NaN     NaN    NaN    NaN  13:04  \n\n[85 rows x 20 columns]",
      "text/html": "<div>\n<style scoped>\n    .dataframe tbody tr th:only-of-type {\n        vertical-align: middle;\n    }\n\n    .dataframe tbody tr th {\n        vertical-align: top;\n    }\n\n    .dataframe thead th {\n        text-align: right;\n    }\n</style>\n<table border=\"1\" class=\"dataframe\">\n  <thead>\n    <tr style=\"text-align: right;\">\n      <th></th>\n      <th>7 #30</th>\n      <th>4 #439</th>\n      <th>5 #194</th>\n      <th>554 #11</th>\n      <th>10 #40</th>\n      <th>5 #513</th>\n      <th>4 #178</th>\n      <th>3 #30</th>\n      <th>1 #40</th>\n      <th>552 #37</th>\n      <th>10 #41</th>\n      <th>552 #6</th>\n      <th>1 #134</th>\n      <th>3 #86</th>\n      <th>4 #440</th>\n      <th>5 #195</th>\n      <th>17 #100</th>\n      <th>10 #42</th>\n      <th>4 #179</th>\n      <th>5 #514</th>\n    </tr>\n  </thead>\n  <tbody>\n    <tr>\n      <th>Würzburg Sanderring</th>\n      <td>12:18</td>\n      <td>12:19</td>\n      <td>12:19</td>\n      <td>12:20</td>\n      <td>12:21</td>\n      <td>12:24</td>\n      <td>12:24</td>\n      <td>12:26</td>\n      <td>12:27</td>\n      <td>12:28</td>\n      <td>12:29</td>\n      <td>12:30</td>\n      <td>12:31</td>\n      <td>12:32</td>\n      <td>12:34</td>\n      <td>12:34</td>\n      <td>12:35</td>\n      <td>12:36</td>\n      <td>12:39</td>\n      <td>12:39</td>\n    </tr>\n    <tr>\n      <th>Würzburg Leistenstraße</th>\n      <td>12:20</td>\n      <td>NaN</td>\n      <td>NaN</td>\n      <td>NaN</td>\n      <td>NaN</td>\n      <td>NaN</td>\n      <td>NaN</td>\n      <td>NaN</td>\n      <td>NaN</td>\n      <td>NaN</td>\n      <td>NaN</td>\n      <td>NaN</td>\n      <td>NaN</td>\n      <td>NaN</td>\n      <td>NaN</td>\n      <td>NaN</td>\n      <td>12:37</td>\n      <td>NaN</td>\n      <td>NaN</td>\n      <td>NaN</td>\n    </tr>\n    <tr>\n      <th>Würzburg Neubaustraße</th>\n      <td>NaN</td>\n      <td>12:20</td>\n      <td>12:21</td>\n      <td>NaN</td>\n      <td>NaN</td>\n      <td>NaN</td>\n      <td>NaN</td>\n      <td>12:27</td>\n      <td>12:28</td>\n      <td>NaN</td>\n      <td>NaN</td>\n      <td>NaN</td>\n      <td>NaN</td>\n      <td>NaN</td>\n      <td>12:35</td>\n      <td>12:36</td>\n      <td>NaN</td>\n      <td>NaN</td>\n      <td>NaN</td>\n      <td>NaN</td>\n    </tr>\n    <tr>\n      <th>Würzburg Sanderglacisstraße</th>\n      <td>NaN</td>\n      <td>NaN</td>\n      <td>NaN</td>\n      <td>NaN</td>\n      <td>12:23</td>\n      <td>NaN</td>\n      <td>NaN</td>\n      <td>NaN</td>\n      <td>NaN</td>\n      <td>NaN</td>\n      <td>12:31</td>\n      <td>NaN</td>\n      <td>NaN</td>\n      <td>NaN</td>\n      <td>NaN</td>\n      <td>NaN</td>\n      <td>NaN</td>\n      <td>12:38</td>\n      <td>NaN</td>\n      <td>NaN</td>\n    </tr>\n    <tr>\n      <th>Würzburg Löwenbrücke</th>\n      <td>NaN</td>\n      <td>NaN</td>\n      <td>NaN</td>\n      <td>NaN</td>\n      <td>NaN</td>\n      <td>12:26</td>\n      <td>NaN</td>\n      <td>NaN</td>\n      <td>NaN</td>\n      <td>NaN</td>\n      <td>NaN</td>\n      <td>NaN</td>\n      <td>NaN</td>\n      <td>12:33</td>\n      <td>NaN</td>\n      <td>NaN</td>\n      <td>NaN</td>\n      <td>NaN</td>\n      <td>NaN</td>\n      <td>12:41</td>\n    </tr>\n    <tr>\n      <th>...</th>\n      <td>...</td>\n      <td>...</td>\n      <td>...</td>\n      <td>...</td>\n      <td>...</td>\n      <td>...</td>\n      <td>...</td>\n      <td>...</td>\n      <td>...</td>\n      <td>...</td>\n      <td>...</td>\n      <td>...</td>\n      <td>...</td>\n      <td>...</td>\n      <td>...</td>\n      <td>...</td>\n      <td>...</td>\n      <td>...</td>\n      <td>...</td>\n      <td>...</td>\n    </tr>\n    <tr>\n      <th>Würzburg Athener Ring #1</th>\n      <td>NaN</td>\n      <td>NaN</td>\n      <td>NaN</td>\n      <td>NaN</td>\n      <td>NaN</td>\n      <td>NaN</td>\n      <td>NaN</td>\n      <td>NaN</td>\n      <td>NaN</td>\n      <td>NaN</td>\n      <td>NaN</td>\n      <td>NaN</td>\n      <td>NaN</td>\n      <td>12:50</td>\n      <td>NaN</td>\n      <td>NaN</td>\n      <td>NaN</td>\n      <td>NaN</td>\n      <td>NaN</td>\n      <td>NaN</td>\n    </tr>\n    <tr>\n      <th>Lindelbach Unterer Bux</th>\n      <td>NaN</td>\n      <td>NaN</td>\n      <td>NaN</td>\n      <td>NaN</td>\n      <td>NaN</td>\n      <td>NaN</td>\n      <td>NaN</td>\n      <td>NaN</td>\n      <td>NaN</td>\n      <td>NaN</td>\n      <td>NaN</td>\n      <td>12:56</td>\n      <td>NaN</td>\n      <td>NaN</td>\n      <td>NaN</td>\n      <td>NaN</td>\n      <td>NaN</td>\n      <td>NaN</td>\n      <td>NaN</td>\n      <td>NaN</td>\n    </tr>\n    <tr>\n      <th>Würzburg Brombergweg</th>\n      <td>NaN</td>\n      <td>NaN</td>\n      <td>NaN</td>\n      <td>NaN</td>\n      <td>NaN</td>\n      <td>12:47</td>\n      <td>NaN</td>\n      <td>NaN</td>\n      <td>NaN</td>\n      <td>NaN</td>\n      <td>NaN</td>\n      <td>NaN</td>\n      <td>NaN</td>\n      <td>NaN</td>\n      <td>NaN</td>\n      <td>NaN</td>\n      <td>NaN</td>\n      <td>NaN</td>\n      <td>NaN</td>\n      <td>13:02</td>\n    </tr>\n    <tr>\n      <th>Würzburg Athener Ring #2</th>\n      <td>NaN</td>\n      <td>NaN</td>\n      <td>NaN</td>\n      <td>NaN</td>\n      <td>NaN</td>\n      <td>NaN</td>\n      <td>NaN</td>\n      <td>NaN</td>\n      <td>NaN</td>\n      <td>NaN</td>\n      <td>NaN</td>\n      <td>NaN</td>\n      <td>NaN</td>\n      <td>12:53</td>\n      <td>NaN</td>\n      <td>NaN</td>\n      <td>NaN</td>\n      <td>NaN</td>\n      <td>NaN</td>\n      <td>NaN</td>\n    </tr>\n    <tr>\n      <th>Würzburg Rottenbauer</th>\n      <td>NaN</td>\n      <td>NaN</td>\n      <td>NaN</td>\n      <td>NaN</td>\n      <td>NaN</td>\n      <td>12:49</td>\n      <td>NaN</td>\n      <td>NaN</td>\n      <td>NaN</td>\n      <td>NaN</td>\n      <td>NaN</td>\n      <td>NaN</td>\n      <td>NaN</td>\n      <td>NaN</td>\n      <td>NaN</td>\n      <td>NaN</td>\n      <td>NaN</td>\n      <td>NaN</td>\n      <td>NaN</td>\n      <td>13:04</td>\n    </tr>\n  </tbody>\n</table>\n<p>85 rows × 20 columns</p>\n</div>"
     },
     "execution_count": 6,
     "metadata": {},
     "output_type": "execute_result"
    }
   ],
   "source": [
    "tm.departures_to_data_frame(departures)"
   ],
   "metadata": {
    "collapsed": false,
    "pycharm": {
     "name": "#%%\n"
    }
   }
  },
  {
   "cell_type": "markdown",
   "source": [
    "Only south-bound Straßenbahn with full journey (also include previous stations)"
   ],
   "metadata": {
    "collapsed": false,
    "pycharm": {
     "name": "#%% md\n"
    }
   }
  },
  {
   "cell_type": "code",
   "execution_count": 10,
   "outputs": [
    {
     "name": "stdout",
     "output_type": "stream",
     "text": [
      "request stop sequence https://www.bayern-fahrplan.de/xhr_stopseq_leg {'line': 'wvv:01005:e:R:22b', 'stop': '3700348', 'tripCode': '513', 'date': '20220422', 'time': '12:24', 'tStOTType': 'ALL'}\n",
      "status code: 200\n",
      "request stop sequence https://www.bayern-fahrplan.de/xhr_stopseq_leg {'line': 'wvv:01004:e:R:22b', 'stop': '3700348', 'tripCode': '178', 'date': '20220422', 'time': '12:24', 'tStOTType': 'ALL'}\n",
      "status code: 200\n",
      "request stop sequence https://www.bayern-fahrplan.de/xhr_stopseq_leg {'line': 'wvv:01001:e:R:22b', 'stop': '3700348', 'tripCode': '134', 'date': '20220422', 'time': '12:31', 'tStOTType': 'ALL'}\n",
      "status code: 200\n",
      "request stop sequence https://www.bayern-fahrplan.de/xhr_stopseq_leg {'line': 'wvv:01003:E:R:22b', 'stop': '3700348', 'tripCode': '86', 'date': '20220422', 'time': '12:32', 'tStOTType': 'ALL'}\n",
      "status code: 200\n",
      "request stop sequence https://www.bayern-fahrplan.de/xhr_stopseq_leg {'line': 'wvv:01004:e:R:22b', 'stop': '3700348', 'tripCode': '179', 'date': '20220422', 'time': '12:39', 'tStOTType': 'ALL'}\n",
      "status code: 200\n",
      "request stop sequence https://www.bayern-fahrplan.de/xhr_stopseq_leg {'line': 'wvv:01005:e:R:22b', 'stop': '3700348', 'tripCode': '514', 'date': '20220422', 'time': '12:39', 'tStOTType': 'ALL'}\n",
      "status code: 200\n"
     ]
    },
    {
     "data": {
      "text/plain": "                               5 #513 4 #178 1 #134  3 #86 4 #179 5 #514\nWürzburg Pestalozzistraße       12:07    NaN  12:14    NaN    NaN  12:22\nWürzburg Bürgerbräu               NaN  12:07    NaN    NaN  12:22    NaN\nWürzburg Josefskirche           12:07    NaN  12:14    NaN    NaN  12:22\nWürzburg Sieboldmuseum            NaN  12:07    NaN    NaN  12:22    NaN\nWürzburg Brücknerstraße         12:09    NaN  12:16    NaN    NaN  12:24\nWürzburg DJK-Sportzentrum         NaN  12:09    NaN    NaN  12:24    NaN\nWürzburg Berliner Platz         12:10    NaN  12:17    NaN    NaN  12:25\nWürzburg Hartmannstraße           NaN  12:10    NaN    NaN  12:25    NaN\nWürzburg, Hauptbahnhof West     12:14    NaN  12:21  12:23    NaN  12:29\nWürzburg Wörthstraße              NaN  12:11    NaN    NaN  12:26    NaN\nWürzburg Juliuspromenade        12:16    NaN  12:23  12:25    NaN  12:31\nWürzburg Nautiland                NaN  12:12    NaN    NaN  12:27    NaN\nWürzburg Talavera                 NaN  12:14    NaN    NaN  12:29    NaN\nWürzburg Congress-Centrum         NaN  12:15    NaN    NaN  12:30    NaN\nWürzburg Ulmer Hof                NaN  12:16    NaN    NaN  12:31    NaN\nWürzburg Dom                    12:18  12:19  12:25  12:27  12:34  12:33\nWürzburg Rathaus                12:19  12:20  12:26  12:28  12:35  12:34\nWürzburg Neubaustraße           12:21  12:21  12:28  12:29  12:36  12:36\nWürzburg Sanderring             12:24  12:24  12:31  12:32  12:39  12:39\nWürzburg Löwenbrücke            12:26    NaN    NaN  12:33    NaN  12:41\nWürzburg Eichendorffstraße        NaN  12:25  12:33    NaN  12:40    NaN\nWürzburg Ruderzentrum           12:27    NaN    NaN  12:34    NaN  12:42\nWürzburg Ehehaltenhaus            NaN  12:26  12:34    NaN  12:41    NaN\nWürzburg Judenbühlweg           12:28    NaN    NaN  12:35    NaN  12:43\nWürzburg Arndtstraße              NaN  12:27  12:35    NaN  12:42    NaN\nWürzburg Steinbachtal           12:29    NaN    NaN  12:36    NaN  12:44\nWürzburg Fechenbachstraße         NaN  12:28  12:36    NaN  12:43    NaN\nWürzburg Dallenbergbad          12:31    NaN    NaN  12:38    NaN  12:46\nWürzburg Ablösung Fechenbachst    NaN  12:30  12:38    NaN  12:45    NaN\nWü Andreas-Grieser-Straße       12:32    NaN    NaN  12:39    NaN  12:47\nWürzburg Königsberger Straße      NaN  12:32  12:40    NaN  12:47    NaN\nWürzburg Reuterstraße           12:34    NaN    NaN  12:41    NaN  12:49\nWürzburg Klingenstraße          12:35    NaN    NaN  12:42    NaN  12:50\nWürzburg Heriedenweg            12:36    NaN    NaN  12:43    NaN  12:51\nWürzburg Berner Straße          12:39    NaN    NaN  12:46    NaN  12:54\nWürzburg Straßburger Ring       12:39    NaN    NaN  12:47    NaN  12:54\nWürzburg Wiener Ring            12:41    NaN    NaN  12:48    NaN  12:56\nWürzburg Madrider Ring          12:42    NaN    NaN  12:49    NaN  12:57\nWü Max-Mengeringhausen-Straße   12:45    NaN    NaN    NaN    NaN  13:00\nWürzburg Athener Ring #1          NaN    NaN    NaN  12:50    NaN    NaN\nWürzburg Brombergweg            12:47    NaN    NaN    NaN    NaN  13:02\nWürzburg Athener Ring #2          NaN    NaN    NaN  12:53    NaN    NaN\nWürzburg Rottenbauer            12:49    NaN    NaN    NaN    NaN  13:04",
      "text/html": "<div>\n<style scoped>\n    .dataframe tbody tr th:only-of-type {\n        vertical-align: middle;\n    }\n\n    .dataframe tbody tr th {\n        vertical-align: top;\n    }\n\n    .dataframe thead th {\n        text-align: right;\n    }\n</style>\n<table border=\"1\" class=\"dataframe\">\n  <thead>\n    <tr style=\"text-align: right;\">\n      <th></th>\n      <th>5 #513</th>\n      <th>4 #178</th>\n      <th>1 #134</th>\n      <th>3 #86</th>\n      <th>4 #179</th>\n      <th>5 #514</th>\n    </tr>\n  </thead>\n  <tbody>\n    <tr>\n      <th>Würzburg Pestalozzistraße</th>\n      <td>12:07</td>\n      <td>NaN</td>\n      <td>12:14</td>\n      <td>NaN</td>\n      <td>NaN</td>\n      <td>12:22</td>\n    </tr>\n    <tr>\n      <th>Würzburg Bürgerbräu</th>\n      <td>NaN</td>\n      <td>12:07</td>\n      <td>NaN</td>\n      <td>NaN</td>\n      <td>12:22</td>\n      <td>NaN</td>\n    </tr>\n    <tr>\n      <th>Würzburg Josefskirche</th>\n      <td>12:07</td>\n      <td>NaN</td>\n      <td>12:14</td>\n      <td>NaN</td>\n      <td>NaN</td>\n      <td>12:22</td>\n    </tr>\n    <tr>\n      <th>Würzburg Sieboldmuseum</th>\n      <td>NaN</td>\n      <td>12:07</td>\n      <td>NaN</td>\n      <td>NaN</td>\n      <td>12:22</td>\n      <td>NaN</td>\n    </tr>\n    <tr>\n      <th>Würzburg Brücknerstraße</th>\n      <td>12:09</td>\n      <td>NaN</td>\n      <td>12:16</td>\n      <td>NaN</td>\n      <td>NaN</td>\n      <td>12:24</td>\n    </tr>\n    <tr>\n      <th>Würzburg DJK-Sportzentrum</th>\n      <td>NaN</td>\n      <td>12:09</td>\n      <td>NaN</td>\n      <td>NaN</td>\n      <td>12:24</td>\n      <td>NaN</td>\n    </tr>\n    <tr>\n      <th>Würzburg Berliner Platz</th>\n      <td>12:10</td>\n      <td>NaN</td>\n      <td>12:17</td>\n      <td>NaN</td>\n      <td>NaN</td>\n      <td>12:25</td>\n    </tr>\n    <tr>\n      <th>Würzburg Hartmannstraße</th>\n      <td>NaN</td>\n      <td>12:10</td>\n      <td>NaN</td>\n      <td>NaN</td>\n      <td>12:25</td>\n      <td>NaN</td>\n    </tr>\n    <tr>\n      <th>Würzburg, Hauptbahnhof West</th>\n      <td>12:14</td>\n      <td>NaN</td>\n      <td>12:21</td>\n      <td>12:23</td>\n      <td>NaN</td>\n      <td>12:29</td>\n    </tr>\n    <tr>\n      <th>Würzburg Wörthstraße</th>\n      <td>NaN</td>\n      <td>12:11</td>\n      <td>NaN</td>\n      <td>NaN</td>\n      <td>12:26</td>\n      <td>NaN</td>\n    </tr>\n    <tr>\n      <th>Würzburg Juliuspromenade</th>\n      <td>12:16</td>\n      <td>NaN</td>\n      <td>12:23</td>\n      <td>12:25</td>\n      <td>NaN</td>\n      <td>12:31</td>\n    </tr>\n    <tr>\n      <th>Würzburg Nautiland</th>\n      <td>NaN</td>\n      <td>12:12</td>\n      <td>NaN</td>\n      <td>NaN</td>\n      <td>12:27</td>\n      <td>NaN</td>\n    </tr>\n    <tr>\n      <th>Würzburg Talavera</th>\n      <td>NaN</td>\n      <td>12:14</td>\n      <td>NaN</td>\n      <td>NaN</td>\n      <td>12:29</td>\n      <td>NaN</td>\n    </tr>\n    <tr>\n      <th>Würzburg Congress-Centrum</th>\n      <td>NaN</td>\n      <td>12:15</td>\n      <td>NaN</td>\n      <td>NaN</td>\n      <td>12:30</td>\n      <td>NaN</td>\n    </tr>\n    <tr>\n      <th>Würzburg Ulmer Hof</th>\n      <td>NaN</td>\n      <td>12:16</td>\n      <td>NaN</td>\n      <td>NaN</td>\n      <td>12:31</td>\n      <td>NaN</td>\n    </tr>\n    <tr>\n      <th>Würzburg Dom</th>\n      <td>12:18</td>\n      <td>12:19</td>\n      <td>12:25</td>\n      <td>12:27</td>\n      <td>12:34</td>\n      <td>12:33</td>\n    </tr>\n    <tr>\n      <th>Würzburg Rathaus</th>\n      <td>12:19</td>\n      <td>12:20</td>\n      <td>12:26</td>\n      <td>12:28</td>\n      <td>12:35</td>\n      <td>12:34</td>\n    </tr>\n    <tr>\n      <th>Würzburg Neubaustraße</th>\n      <td>12:21</td>\n      <td>12:21</td>\n      <td>12:28</td>\n      <td>12:29</td>\n      <td>12:36</td>\n      <td>12:36</td>\n    </tr>\n    <tr>\n      <th>Würzburg Sanderring</th>\n      <td>12:24</td>\n      <td>12:24</td>\n      <td>12:31</td>\n      <td>12:32</td>\n      <td>12:39</td>\n      <td>12:39</td>\n    </tr>\n    <tr>\n      <th>Würzburg Löwenbrücke</th>\n      <td>12:26</td>\n      <td>NaN</td>\n      <td>NaN</td>\n      <td>12:33</td>\n      <td>NaN</td>\n      <td>12:41</td>\n    </tr>\n    <tr>\n      <th>Würzburg Eichendorffstraße</th>\n      <td>NaN</td>\n      <td>12:25</td>\n      <td>12:33</td>\n      <td>NaN</td>\n      <td>12:40</td>\n      <td>NaN</td>\n    </tr>\n    <tr>\n      <th>Würzburg Ruderzentrum</th>\n      <td>12:27</td>\n      <td>NaN</td>\n      <td>NaN</td>\n      <td>12:34</td>\n      <td>NaN</td>\n      <td>12:42</td>\n    </tr>\n    <tr>\n      <th>Würzburg Ehehaltenhaus</th>\n      <td>NaN</td>\n      <td>12:26</td>\n      <td>12:34</td>\n      <td>NaN</td>\n      <td>12:41</td>\n      <td>NaN</td>\n    </tr>\n    <tr>\n      <th>Würzburg Judenbühlweg</th>\n      <td>12:28</td>\n      <td>NaN</td>\n      <td>NaN</td>\n      <td>12:35</td>\n      <td>NaN</td>\n      <td>12:43</td>\n    </tr>\n    <tr>\n      <th>Würzburg Arndtstraße</th>\n      <td>NaN</td>\n      <td>12:27</td>\n      <td>12:35</td>\n      <td>NaN</td>\n      <td>12:42</td>\n      <td>NaN</td>\n    </tr>\n    <tr>\n      <th>Würzburg Steinbachtal</th>\n      <td>12:29</td>\n      <td>NaN</td>\n      <td>NaN</td>\n      <td>12:36</td>\n      <td>NaN</td>\n      <td>12:44</td>\n    </tr>\n    <tr>\n      <th>Würzburg Fechenbachstraße</th>\n      <td>NaN</td>\n      <td>12:28</td>\n      <td>12:36</td>\n      <td>NaN</td>\n      <td>12:43</td>\n      <td>NaN</td>\n    </tr>\n    <tr>\n      <th>Würzburg Dallenbergbad</th>\n      <td>12:31</td>\n      <td>NaN</td>\n      <td>NaN</td>\n      <td>12:38</td>\n      <td>NaN</td>\n      <td>12:46</td>\n    </tr>\n    <tr>\n      <th>Würzburg Ablösung Fechenbachst</th>\n      <td>NaN</td>\n      <td>12:30</td>\n      <td>12:38</td>\n      <td>NaN</td>\n      <td>12:45</td>\n      <td>NaN</td>\n    </tr>\n    <tr>\n      <th>Wü Andreas-Grieser-Straße</th>\n      <td>12:32</td>\n      <td>NaN</td>\n      <td>NaN</td>\n      <td>12:39</td>\n      <td>NaN</td>\n      <td>12:47</td>\n    </tr>\n    <tr>\n      <th>Würzburg Königsberger Straße</th>\n      <td>NaN</td>\n      <td>12:32</td>\n      <td>12:40</td>\n      <td>NaN</td>\n      <td>12:47</td>\n      <td>NaN</td>\n    </tr>\n    <tr>\n      <th>Würzburg Reuterstraße</th>\n      <td>12:34</td>\n      <td>NaN</td>\n      <td>NaN</td>\n      <td>12:41</td>\n      <td>NaN</td>\n      <td>12:49</td>\n    </tr>\n    <tr>\n      <th>Würzburg Klingenstraße</th>\n      <td>12:35</td>\n      <td>NaN</td>\n      <td>NaN</td>\n      <td>12:42</td>\n      <td>NaN</td>\n      <td>12:50</td>\n    </tr>\n    <tr>\n      <th>Würzburg Heriedenweg</th>\n      <td>12:36</td>\n      <td>NaN</td>\n      <td>NaN</td>\n      <td>12:43</td>\n      <td>NaN</td>\n      <td>12:51</td>\n    </tr>\n    <tr>\n      <th>Würzburg Berner Straße</th>\n      <td>12:39</td>\n      <td>NaN</td>\n      <td>NaN</td>\n      <td>12:46</td>\n      <td>NaN</td>\n      <td>12:54</td>\n    </tr>\n    <tr>\n      <th>Würzburg Straßburger Ring</th>\n      <td>12:39</td>\n      <td>NaN</td>\n      <td>NaN</td>\n      <td>12:47</td>\n      <td>NaN</td>\n      <td>12:54</td>\n    </tr>\n    <tr>\n      <th>Würzburg Wiener Ring</th>\n      <td>12:41</td>\n      <td>NaN</td>\n      <td>NaN</td>\n      <td>12:48</td>\n      <td>NaN</td>\n      <td>12:56</td>\n    </tr>\n    <tr>\n      <th>Würzburg Madrider Ring</th>\n      <td>12:42</td>\n      <td>NaN</td>\n      <td>NaN</td>\n      <td>12:49</td>\n      <td>NaN</td>\n      <td>12:57</td>\n    </tr>\n    <tr>\n      <th>Wü Max-Mengeringhausen-Straße</th>\n      <td>12:45</td>\n      <td>NaN</td>\n      <td>NaN</td>\n      <td>NaN</td>\n      <td>NaN</td>\n      <td>13:00</td>\n    </tr>\n    <tr>\n      <th>Würzburg Athener Ring #1</th>\n      <td>NaN</td>\n      <td>NaN</td>\n      <td>NaN</td>\n      <td>12:50</td>\n      <td>NaN</td>\n      <td>NaN</td>\n    </tr>\n    <tr>\n      <th>Würzburg Brombergweg</th>\n      <td>12:47</td>\n      <td>NaN</td>\n      <td>NaN</td>\n      <td>NaN</td>\n      <td>NaN</td>\n      <td>13:02</td>\n    </tr>\n    <tr>\n      <th>Würzburg Athener Ring #2</th>\n      <td>NaN</td>\n      <td>NaN</td>\n      <td>NaN</td>\n      <td>12:53</td>\n      <td>NaN</td>\n      <td>NaN</td>\n    </tr>\n    <tr>\n      <th>Würzburg Rottenbauer</th>\n      <td>12:49</td>\n      <td>NaN</td>\n      <td>NaN</td>\n      <td>NaN</td>\n      <td>NaN</td>\n      <td>13:04</td>\n    </tr>\n  </tbody>\n</table>\n</div>"
     },
     "execution_count": 10,
     "metadata": {},
     "output_type": "execute_result"
    }
   ],
   "source": [
    "import re\n",
    "\n",
    "def filter_southbound_tram(d: q.Departure):\n",
    "    dest_south = re.compile(\"(.*Sanderau.*)|(.*Königsberger.*)|(.*Fechenbachstr.*)|(.*Rottenbauer.*)|(.*Dallenberg.*)|(.*Heuchelhof.*)|(.*Athener.*)\")\n",
    "    return d.line in (str(i) for i in range(1, 6)) and dest_south.match(d.destination)\n",
    "\n",
    "tm.departures_to_data_frame(departures, filter_southbound_tram, full_journey=True)"
   ],
   "metadata": {
    "collapsed": false,
    "pycharm": {
     "name": "#%%\n"
    }
   }
  },
  {
   "cell_type": "code",
   "execution_count": null,
   "outputs": [],
   "source": [],
   "metadata": {
    "collapsed": false,
    "pycharm": {
     "name": "#%%\n"
    }
   }
  }
 ],
 "metadata": {
  "kernelspec": {
   "display_name": "Python 3",
   "language": "python",
   "name": "python3"
  },
  "language_info": {
   "codemirror_mode": {
    "name": "ipython",
    "version": 2
   },
   "file_extension": ".py",
   "mimetype": "text/x-python",
   "name": "python",
   "nbconvert_exporter": "python",
   "pygments_lexer": "ipython2",
   "version": "2.7.6"
  }
 },
 "nbformat": 4,
 "nbformat_minor": 0
}