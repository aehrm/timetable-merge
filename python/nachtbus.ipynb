{
 "cells": [
  {
   "cell_type": "code",
   "execution_count": 2,
   "outputs": [],
   "source": [
    "import networkx as nx\n",
    "import merge_nachtbus as mn"
   ],
   "metadata": {
    "collapsed": false,
    "pycharm": {
     "name": "#%%\n"
    }
   }
  },
  {
   "cell_type": "markdown",
   "source": [
    "Juliuspromenade Samstag 0:30"
   ],
   "metadata": {
    "collapsed": false,
    "pycharm": {
     "name": "#%% md\n"
    }
   }
  },
  {
   "cell_type": "code",
   "execution_count": 3,
   "outputs": [
    {
     "name": "stdout",
     "output_type": "stream",
     "text": [
      "request stop sequence https://www.bayern-fahrplan.de/xhr_stopseq_leg {'line': 'wvv:01004:e:R:22c', 'stop': '3700208', 'tripCode': '160', 'date': '20220430', 'time': '00:39', 'useRealtime': '1'}\n",
      "status code: 200\n",
      "request stop sequence https://www.bayern-fahrplan.de/xhr_stopseq_leg {'line': 'wvv:01005:e:R:22c', 'stop': '3700208', 'tripCode': '483', 'date': '20220430', 'time': '00:42', 'useRealtime': '1'}\n",
      "status code: 200\n",
      "request stop sequence https://www.bayern-fahrplan.de/xhr_stopseq_leg {'line': 'wvv:01005:e:H:22c', 'stop': '3700208', 'tripCode': '63', 'date': '20220430', 'time': '00:43', 'useRealtime': '1'}\n",
      "status code: 200\n",
      "request stop sequence https://www.bayern-fahrplan.de/xhr_stopseq_leg {'line': 'wvv:10006:e:H:22c', 'stop': '3700208', 'tripCode': '143', 'date': '20220430', 'time': '00:43', 'useRealtime': '1'}\n",
      "status code: 200\n",
      "request stop sequence https://www.bayern-fahrplan.de/xhr_stopseq_leg {'line': 'wvv:01004:e:R:22c', 'stop': '3700208', 'tripCode': '160', 'date': '20220430', 'time': '00:44', 'useRealtime': '1'}\n",
      "status code: 200\n",
      "request stop sequence https://www.bayern-fahrplan.de/xhr_stopseq_leg {'line': 'wvv:10097:e:H:22c', 'stop': '3700208', 'tripCode': '1', 'date': '20220430', 'time': '00:45', 'useRealtime': '1'}\n",
      "status code: 200\n",
      "request stop sequence https://www.bayern-fahrplan.de/xhr_stopseq_leg {'line': 'wvv:01005:e:R:22c', 'stop': '3700208', 'tripCode': '484', 'date': '20220430', 'time': '01:15', 'useRealtime': '1'}\n",
      "status code: 200\n",
      "request stop sequence https://www.bayern-fahrplan.de/xhr_stopseq_leg {'line': 'wvv:10092:e:H:22c', 'stop': '3700208', 'tripCode': '1', 'date': '20220430', 'time': '01:15', 'useRealtime': '1'}\n",
      "status code: 200\n",
      "request stop sequence https://www.bayern-fahrplan.de/xhr_stopseq_leg {'line': 'wvv:10093:e:H:22c', 'stop': '3700208', 'tripCode': '1', 'date': '20220430', 'time': '01:15', 'useRealtime': '1'}\n",
      "status code: 200\n",
      "request stop sequence https://www.bayern-fahrplan.de/xhr_stopseq_leg {'line': 'wvv:10091:e:H:22c', 'stop': '3700208', 'tripCode': '1', 'date': '20220430', 'time': '01:15', 'useRealtime': '1'}\n",
      "status code: 200\n",
      "request stop sequence https://www.bayern-fahrplan.de/xhr_stopseq_leg {'line': 'wvv:10091:e:H:22c', 'stop': '3700208', 'tripCode': '2', 'date': '20220430', 'time': '02:12', 'useRealtime': '1'}\n",
      "status code: 200\n",
      "request stop sequence https://www.bayern-fahrplan.de/xhr_stopseq_leg {'line': 'wvv:10092:e:H:22c', 'stop': '3700208', 'tripCode': '2', 'date': '20220430', 'time': '02:15', 'useRealtime': '1'}\n",
      "status code: 200\n",
      "request stop sequence https://www.bayern-fahrplan.de/xhr_stopseq_leg {'line': 'wvv:10093:e:H:22c', 'stop': '3700208', 'tripCode': '2', 'date': '20220430', 'time': '02:15', 'useRealtime': '1'}\n",
      "status code: 200\n",
      "request stop sequence https://www.bayern-fahrplan.de/xhr_stopseq_leg {'line': 'wvv:10094:e:H:22c', 'stop': '3700208', 'tripCode': '2', 'date': '20220430', 'time': '02:15', 'useRealtime': '1'}\n",
      "status code: 200\n",
      "request stop sequence https://www.bayern-fahrplan.de/xhr_stopseq_leg {'line': 'wvv:10091:e:H:22c', 'stop': '3700208', 'tripCode': '3', 'date': '20220430', 'time': '03:12', 'useRealtime': '1'}\n",
      "status code: 200\n",
      "request stop sequence https://www.bayern-fahrplan.de/xhr_stopseq_leg {'line': 'wvv:10092:e:H:22c', 'stop': '3700208', 'tripCode': '3', 'date': '20220430', 'time': '03:15', 'useRealtime': '1'}\n",
      "status code: 200\n",
      "request stop sequence https://www.bayern-fahrplan.de/xhr_stopseq_leg {'line': 'wvv:10093:e:H:22c', 'stop': '3700208', 'tripCode': '3', 'date': '20220430', 'time': '03:15', 'useRealtime': '1'}\n",
      "status code: 200\n",
      "request stop sequence https://www.bayern-fahrplan.de/xhr_stopseq_leg {'line': 'wvv:10094:e:H:22c', 'stop': '3700208', 'tripCode': '3', 'date': '20220430', 'time': '03:15', 'useRealtime': '1'}\n",
      "status code: 200\n",
      "request stop sequence https://www.bayern-fahrplan.de/xhr_stopseq_leg {'line': 'wvv:10094:e:H:22c', 'stop': '3700208', 'tripCode': '4', 'date': '20220430', 'time': '04:15', 'useRealtime': '1'}\n",
      "status code: 200\n",
      "request stop sequence https://www.bayern-fahrplan.de/xhr_stopseq_leg {'line': 'wvv:10096:e:H:22c', 'stop': '3700208', 'tripCode': '2', 'date': '20220430', 'time': '04:15', 'useRealtime': '1'}\n",
      "status code: 200\n"
     ]
    },
    {
     "data": {
      "text/plain": "['Würzburg Juliuspromenade #1',\n 'Würzburg Juliuspromenade',\n 'Würzburg, Hauptbahnhof West',\n 'Würzburg, Hauptbahnhof Ost',\n 'Würzburg Mainfranken Theater',\n 'Würzburg, Busbahnhof',\n 'Würzburg Ulmer Hof',\n 'Würzburg Juliuspromenade #2',\n 'Würzburg Berliner Platz',\n 'Würzburg Rennweg',\n 'Würzburg Berliner Ring',\n 'Würzburg Rotkreuzstraße',\n 'Würzburg Neutorstraße',\n 'Würzburg Congress-Centrum',\n 'Würzburg Dom',\n 'Würzburg Hauptfriedhof',\n 'Würzburg Wagnerplatz',\n 'Würzburg Kulturspeicher',\n 'Würzburg Rathaus',\n 'Würzburg, Valentin-Becker-Str.',\n 'Würzburg Felix-Fechenbach-Haus',\n 'Würzburg Versorgungsamt',\n 'Würzburg Neubaustraße',\n 'Würzburg Seinsheimstraße',\n 'Würzburg Senefelderstraße',\n 'Würzburg Wörthstraße',\n 'Würzburg Ottostraße',\n 'Würzburg Frauenlandplatz',\n 'Würzburg Uni-Klinik. Bereich D',\n 'Würzburg Hartmannstraße',\n 'Würzburg Neue Universität',\n 'Würzburg Erthalstraße',\n 'Würzburg Robert-Koch-Straße',\n 'Würzb Uni-Klinikum Bereich A',\n 'Würzburg DJK-Sportzentrum',\n 'Würzburg Sanderring',\n 'Würzburg König-Ludwig-Haus',\n 'Würzburg Zeppelinstraße',\n 'Würzburg Pestalozzistraße',\n 'Würzburg Parkplatz ZIM-ZOM',\n 'Würzburg Sieboldmuseum',\n 'Würzburg Eichendorffstraße',\n 'Würzburg Löwenbrücke',\n 'Würzburg Gegenbaurstraße',\n 'Würzburg Wittelsbacherplatz',\n 'Würzburg Zentrallabor',\n 'Würzburg Bürgerbräu',\n 'Würzburg Ehehaltenhaus',\n 'Würzburg Ruderzentrum',\n 'Würzburg Silcherstraße',\n 'Würzburg Richard-Wagner-Straße',\n 'Würzburg, Mittlerer Schwarzenberg',\n 'Zell Oberzell',\n 'Würzburg Arndtstraße',\n 'Würzburg Judenbühlweg',\n 'Würzburg Zollhaus Galgenberg',\n 'Würzburg Straubberg #1',\n 'Würzburg Straubberg',\n 'Zell Wasserwerk',\n 'Würzburg Fechenbachstraße',\n 'Würzburg Steinbachtal',\n 'Würzburg Nopitschstraße',\n 'Würzburg Gustav-Walle-Schule',\n 'Wü Albert-Einstein-Straße',\n 'Würzburg Ablösung Fechenbachst',\n 'Würzburg Albert-Hoffa-Straße',\n 'Würzburg Bayernstraße',\n 'Würzburg Alfred-Nobel-Straße',\n 'Würzburg Königsberger Straße',\n 'Wü Philosophisches Institut',\n 'Würzburg Schwabenstraße',\n 'Würzburg Max-Born-Straße',\n 'Würzburg Dallenbergbad',\n 'Würzburg Hubland/Mensa',\n 'Würzburg Steinlein #1',\n 'Würzburg Am Dürrbach',\n 'Wü Andreas-Grieser-Straße',\n 'Würzburg Äußeres Hubland',\n 'Würzburg Bonhoefferstraße #1',\n 'Würzburg Schwarzer Weg',\n 'Würzburg Reuterstraße',\n 'Würzburg Miravilla',\n 'Würzburg Zum Tännig #1',\n 'Würzburg Unterdürrbach/Schule',\n 'Würzburg Klingenstraße',\n 'Würzburg Klosterstraße',\n 'Würzburg Trautenauer Straße',\n 'Würzburg Kühlenbergstraße #1',\n 'Würzburg Unterdürrbach/Kirche',\n 'Würzburg Walther-Schule',\n 'Würzburg Sanderrothstraße',\n 'Würzburg Brunnenstraße',\n 'Würzburg Steinburgstraße',\n 'Würzburg Ostbahnhof',\n 'Würzburg St.-Alfons-Kirche',\n 'Würzburg Kühlenbergstraße #2',\n 'Würzburg Kuhberg',\n 'Würzburg Heigelsbach',\n 'Würzburg Hans-Löffler-Straße',\n 'Würzburg Zum Tännig #2',\n 'Würzburg Wandweg',\n 'Würzburg Heriedenweg',\n 'Würzburg Bonhoefferstraße #2',\n 'Würzburg Hirschlein',\n 'Würzburg Berner Straße',\n 'Würzburg Steinlein #2',\n 'Würzburg Oberdürrbach Schule',\n 'Würzburg Straßburger Ring',\n 'Würzburg Straubberg #2',\n 'Würzburg Schafhof',\n 'Würzburg Wiener Ring',\n 'Würzburg Wolffskeel-Schule',\n 'Würzburg Madrider Ring',\n 'Wü Mittlere Heerbergstraße',\n 'Würzburg Athener Ring #1',\n 'Würzburg Athener Ring',\n 'Würzburg Hessenstraße',\n 'Würzburg Athener Ring #2',\n 'Würzburg Greinberg',\n 'Wü Max-Mengeringhausen-Straße',\n 'Würzburg Sonnfeld',\n 'Würzburg Brombergweg',\n 'Würzburg Jahnstraße #1',\n 'Würzburg Rottenbauer',\n 'Würzburg Odenwaldstraße #1',\n 'Würzburg Oekumenisches Zentrum',\n 'Würzburg Odenwaldstraße #2',\n 'Würzburg Jahnstraße #2',\n 'Würzburg Holzmühle',\n 'Würzburg St.-Lioba-Kirche',\n 'Würzburg Pilziggrund/Mitte',\n 'Würzburg Essiggarten',\n 'Würzburg Stauferstrasse']"
     },
     "execution_count": 3,
     "metadata": {},
     "output_type": "execute_result"
    }
   ],
   "source": [
    "graph = mn.graph_saturday()\n",
    "station_list = list(nx.topological_sort(graph))\n",
    "station_list"
   ],
   "metadata": {
    "collapsed": false,
    "pycharm": {
     "name": "#%%\n"
    }
   }
  }
 ],
 "metadata": {
  "kernelspec": {
   "display_name": "Python 3",
   "language": "python",
   "name": "python3"
  },
  "language_info": {
   "codemirror_mode": {
    "name": "ipython",
    "version": 2
   },
   "file_extension": ".py",
   "mimetype": "text/x-python",
   "name": "python",
   "nbconvert_exporter": "python",
   "pygments_lexer": "ipython2",
   "version": "2.7.6"
  }
 },
 "nbformat": 4,
 "nbformat_minor": 0
}